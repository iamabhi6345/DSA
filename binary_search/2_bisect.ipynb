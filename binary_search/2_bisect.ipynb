{
 "cells": [
  {
   "cell_type": "code",
   "execution_count": 16,
   "metadata": {},
   "outputs": [
    {
     "data": {
      "text/plain": [
       "'   \\n\\n    ????????????????????????????What is Lower Bound\\n    The lower bound algorithm finds the first or the smallest index in a sorted array where the value at\\n    that index is greater than or equal to a given key i.e. x.\\n\\n    The lower bound is the smallest index, ind, where arr[ind] >= x. But if any such index is not found, \\n    the lower bound algorithm returns n i.e. size of the given array.\\n    \\n    \\n    \\n    \\n    \\n    \\n    1  bisect(list, num, beg, end) :- This function returns the position in the sorted list, where the \\n       number passed in argument can be placed so as to maintain the resultant list in sorted order. \\n       If the element is already present in the list, the rightmost position where element has to be \\n       inserted is returned.\\n\\n        This function takes 4 arguments, list which has to be worked with, a number to insert, \\n        starting position in list to consider, ending position which has to be considered. \\n\\n    2. bisect_left(list, num, beg, end) :- This function returns the position in the sorted list, where \\n       the number passed in argument can be placed so as to maintain the resultant list in sorted order. \\n       If the element is already present in the list, the leftmost position where element has to be \\n       inserted is returned. \\n\\n       This function takes 4 arguments, list which has to be worked with, number to insert, starting \\n       position in list to consider, ending position which has to be considered. \\n\\n    3. bisect_right(list, num, beg, end) :- This function works similar to the “bisect()” and mentioned\\n       above. \\n\\n'"
      ]
     },
     "execution_count": 16,
     "metadata": {},
     "output_type": "execute_result"
    }
   ],
   "source": [
    "\"\"\"   \n",
    "\n",
    "    ????????????????????????????What is Lower Bound\n",
    "    The lower bound algorithm finds the first or the smallest index in a sorted array where the value at\n",
    "    that index is greater than or equal to a given key i.e. x.\n",
    "\n",
    "    The lower bound is the smallest index, ind, where arr[ind] >= x. But if any such index is not found, \n",
    "    the lower bound algorithm returns n i.e. size of the given array.\n",
    "    \n",
    "    \n",
    "    \n",
    "    \n",
    "    \n",
    "    \n",
    "    1  bisect(list, num, beg, end) :- This function returns the position in the sorted list, where the \n",
    "       number passed in argument can be placed so as to maintain the resultant list in sorted order. \n",
    "       If the element is already present in the list, the rightmost position where element has to be \n",
    "       inserted is returned.\n",
    "\n",
    "        This function takes 4 arguments, list which has to be worked with, a number to insert, \n",
    "        starting position in list to consider, ending position which has to be considered. \n",
    "\n",
    "    2. bisect_left(list, num, beg, end) :- This function returns the position in the sorted list, where \n",
    "       the number passed in argument can be placed so as to maintain the resultant list in sorted order. \n",
    "       If the element is already present in the list, the leftmost position where element has to be \n",
    "       inserted is returned. \n",
    "\n",
    "       This function takes 4 arguments, list which has to be worked with, number to insert, starting \n",
    "       position in list to consider, ending position which has to be considered. \n",
    "\n",
    "    3. bisect_right(list, num, beg, end) :- This function works similar to the “bisect()” and mentioned\n",
    "       above. \n",
    "\n",
    "\"\"\""
   ]
  },
  {
   "cell_type": "raw",
   "metadata": {},
   "source": [
    " bisect.bisect_left(a, x, lo=0, hi=len(a), *, key=None)\n",
    "\n",
    "Locate the insertion point for x in a to maintain sorted order. \n",
    "The parameters lo and hi may be used to specify a subset of the list which should be considered; \n",
    "by default the entire list is used. If x is already present in a, the insertion point will be\n",
    "before (to the left of) any existing entries. The return value is suitable for use as the first parameter \n",
    "to list.insert() assuming that a is already sorted.\n",
    "\n",
    "\n",
    "\n",
    "\n",
    "The returned insertion point ip partitions the array a into two slices such that \n",
    "all(elem < x for elem in a[lo : ip]) is true for the left slice and all(elem >= x for elem in a[ip : hi]) is true \n",
    "for the right slice.\n",
    "\n",
    "key specifies a key function of one argument that is used to extract a comparison key from each element in \n",
    "the array. To support searching complex records, the key function is not applied to the x value.\n",
    "\n",
    "If key is None, the elements are compared directly and no key function is called.\n",
    "\n",
    "Changed in version 3.10: Added the key parameter."
   ]
  },
  {
   "cell_type": "raw",
   "metadata": {},
   "source": [
    "bisect.bisect_right(a, x, lo=0, hi=len(a), *, key=None)\n",
    "\n",
    "bisect.bisect(a, x, lo=0, hi=len(a), *, key=None)\n",
    "\n",
    "\n",
    "Similar to bisect_left(), but returns an insertion point which comes after (to the right of) any existing entries of x in a.\n",
    "\n",
    "The returned insertion point ip partitions the array a into two slices such that all(elem <= x for elem in a[lo : ip]) is true for the left slice and all(elem > x for elem in a[ip : hi]) is true for the right slice.\n",
    "\n",
    "Changed in version 3.10: Added the key parameter."
   ]
  },
  {
   "cell_type": "raw",
   "metadata": {},
   "source": [
    "bisect.insort_left(a, x, lo=0, hi=len(a), *, key=None)\n",
    "\n",
    "\n",
    "Insert x in a in sorted order.\n",
    "\n",
    "\n",
    "\n",
    "\n",
    "This function first runs bisect_left() to locate an insertion point. Next, it runs the insert() method on a to insert x at the appropriate position to maintain sort order.\n",
    "\n",
    "To support inserting records in a table, the key function (if any) is applied to x for the search step but not for the insertion step.\n",
    "\n",
    "Keep in mind that the O(log n) search is dominated by the slow O(n) insertion step.\n",
    "\n",
    "Changed in version 3.10: Added the key parameter."
   ]
  },
  {
   "cell_type": "raw",
   "metadata": {},
   "source": [
    "bisect.insort_right(a, x, lo=0, hi=len(a), *, key=None)\n",
    "bisect.insort(a, x, lo=0, hi=len(a), *, key=None)\n",
    "\n",
    "\n",
    "Similar to insort_left(), but inserting x in a after any existing entries of x.\n",
    "\n",
    "This function first runs bisect_right() to locate an insertion point. Next, it runs the insert() method on a to insert x at the appropriate position to maintain sort order.\n",
    "\n",
    "To support inserting records in a table, the key function (if any) is applied to x for the search step but not for the insertion step.\n",
    "\n",
    "Keep in mind that the O(log n) search is dominated by the slow O(n) insertion step.\n",
    "\n",
    "Changed in version 3.10: Added the key parameter."
   ]
  },
  {
   "cell_type": "code",
   "execution_count": null,
   "metadata": {},
   "outputs": [],
   "source": []
  },
  {
   "cell_type": "code",
   "execution_count": null,
   "metadata": {},
   "outputs": [],
   "source": []
  },
  {
   "cell_type": "code",
   "execution_count": 3,
   "metadata": {},
   "outputs": [
    {
     "name": "stdout",
     "output_type": "stream",
     "text": [
      "Rightmost index to insert, so list remains sorted is : 5\n",
      "5\n",
      "Leftmost index to insert, so list remains sorted is : 2\n",
      "Rightmost index to insert, so list remains sorted is : 6\n",
      "5\n"
     ]
    }
   ],
   "source": [
    "import bisect\n",
    "\n",
    "# initializing list\n",
    "li = [1, 3, 4, 4, 4, 6, 7]\n",
    "\n",
    "# using bisect() to find index to insert new element\n",
    "# returns 5 ( right most possible index )\n",
    "print (\"Rightmost index to insert, so list remains sorted is : \", end=\"\")\n",
    "print (bisect.bisect(li, 4))\n",
    "print (bisect.bisect(li, 5))\n",
    "\n",
    "# using bisect_left() to find index to insert new element\n",
    "# returns 2 ( left most possible index )\n",
    "print (\"Leftmost index to insert, so list remains sorted is : \",  end=\"\")\n",
    "print (bisect.bisect_left(li, 4))\n",
    "\n",
    "# using bisect_right() to find index to insert new element\n",
    "# returns 4 ( right most possible index )\n",
    "print (\"Rightmost index to insert, so list remains sorted is : \", end=\"\")\n",
    "print (bisect.bisect_right(li, 6))\n",
    "print (bisect.bisect_right(li, 4))\n"
   ]
  },
  {
   "cell_type": "code",
   "execution_count": 4,
   "metadata": {},
   "outputs": [
    {
     "name": "stdout",
     "output_type": "stream",
     "text": [
      "[1, 3, 4, 4, 4, 5, 6, 7]\n"
     ]
    }
   ],
   "source": [
    "li = [1, 3, 4, 4, 4, 6, 7]\n",
    "bisect.insort_left(li,5)\n",
    "print(li)"
   ]
  },
  {
   "cell_type": "code",
   "execution_count": 5,
   "metadata": {},
   "outputs": [
    {
     "name": "stdout",
     "output_type": "stream",
     "text": [
      "[1, 3, 4, 4, 4, 5, 6, 7]\n"
     ]
    }
   ],
   "source": [
    "li = [1, 3, 4, 4, 4, 6, 7]\n",
    "bisect.insort_right(li,5)\n",
    "print(li)"
   ]
  },
  {
   "cell_type": "code",
   "execution_count": 6,
   "metadata": {},
   "outputs": [
    {
     "name": "stdout",
     "output_type": "stream",
     "text": [
      "[1, 3, 4, 4, 4, 5, 6, 7]\n"
     ]
    }
   ],
   "source": [
    "li = [1, 3, 4, 4, 4, 6, 7]\n",
    "bisect.insort(li,5)\n",
    "print(li)"
   ]
  },
  {
   "cell_type": "code",
   "execution_count": 7,
   "metadata": {},
   "outputs": [],
   "source": [
    "import bisect\n",
    "\n",
    "def index(a, x):\n",
    "    'Locate the leftmost value exactly equal to x'\n",
    "    i = bisect.bisect_left(a, x)\n",
    "    if i != len(a) and a[i] == x:\n",
    "        return i\n",
    "    return -1\n",
    "\n",
    "def find_lt(a, x):\n",
    "    'Find rightmost value less than x'\n",
    "    i = bisect.bisect_left(a, x)\n",
    "    if i:\n",
    "        return a[i-1]\n",
    "    raise ValueError(f\"No value less than {x} found in the list\")\n",
    "\n",
    "def find_le(a, x):\n",
    "    'Find rightmost value less than or equal to x'\n",
    "    i = bisect.bisect_right(a, x)\n",
    "    if i:\n",
    "        return a[i-1]\n",
    "    raise ValueError(f\"No value less than or equal to {x} found in the list\")\n",
    "\n",
    "def find_gt(a, x):\n",
    "    'Find leftmost value greater than x'\n",
    "    i = bisect.bisect_right(a, x)\n",
    "    if i != len(a):\n",
    "        return a[i]\n",
    "    raise ValueError(f\"No value greater than {x} found in the list\")\n",
    "\n",
    "def find_ge(a, x):\n",
    "    'Find leftmost item greater than or equal to x'\n",
    "    i = bisect.bisect_left(a, x)\n",
    "    if i != len(a):\n",
    "        return a[i]\n",
    "    raise ValueError(f\"No value greater than or equal to {x} found in the list\")\n",
    "\n",
    "# Test cases\n",
    "\n"
   ]
  },
  {
   "cell_type": "code",
   "execution_count": 8,
   "metadata": {},
   "outputs": [],
   "source": [
    "a = [1, 3, 4, 4, 5, 7, 8, 10]\n",
    "\n",
    "\n"
   ]
  },
  {
   "cell_type": "code",
   "execution_count": 9,
   "metadata": {},
   "outputs": [
    {
     "name": "stdout",
     "output_type": "stream",
     "text": [
      "Testing index:\n",
      "7\n",
      "2\n",
      "-1\n"
     ]
    }
   ],
   "source": [
    "print(\"Testing index:\")\n",
    "try:\n",
    "    print(index(a, 10)) \n",
    "    print(index(a, 4))  # Should return 2\n",
    "    print(index(a, 6))  # Should raise ValueError\n",
    "    \n",
    "except ValueError as e:\n",
    "    print(e)\n"
   ]
  },
  {
   "cell_type": "code",
   "execution_count": 10,
   "metadata": {},
   "outputs": [
    {
     "name": "stdout",
     "output_type": "stream",
     "text": [
      "\n",
      "Testing find_lt:\n",
      "3\n",
      "No value less than 1 found in the list\n"
     ]
    }
   ],
   "source": [
    "# a = [1, 3, 4, 4, 5, 7, 8, 10]\n",
    "print(\"\\nTesting find_lt:\")\n",
    "try:\n",
    "    \n",
    "    print(find_lt(a, 4))  # Should return 4\n",
    "    print(find_lt(a, 1))  # Should raise ValueError\n",
    "except ValueError as e:\n",
    "    print(e)\n"
   ]
  },
  {
   "cell_type": "code",
   "execution_count": 11,
   "metadata": {},
   "outputs": [
    {
     "name": "stdout",
     "output_type": "stream",
     "text": [
      "\n",
      "Testing find_le:\n",
      "5\n",
      "5\n",
      "No value less than or equal to 0 found in the list\n"
     ]
    }
   ],
   "source": [
    "\n",
    "print(\"\\nTesting find_le:\")\n",
    "try:\n",
    "    print(find_le(a, 5))  # Should return 5\n",
    "    print(find_le(a, 6))  # Should return 5\n",
    "    print(find_le(a, 0))  # Should raise ValueError\n",
    "except ValueError as e:\n",
    "    print(e)"
   ]
  },
  {
   "cell_type": "code",
   "execution_count": 12,
   "metadata": {},
   "outputs": [
    {
     "name": "stdout",
     "output_type": "stream",
     "text": [
      "\n",
      "Testing find_gt:\n",
      "7\n",
      "No value greater than 10 found in the list\n"
     ]
    }
   ],
   "source": [
    "\n",
    "print(\"\\nTesting find_gt:\")\n",
    "try:\n",
    "    print(find_gt(a, 5))  # Should return 7\n",
    "    print(find_gt(a, 10))  # Should raise ValueError\n",
    "except ValueError as e:\n",
    "    print(e)\n",
    "\n"
   ]
  },
  {
   "cell_type": "code",
   "execution_count": 13,
   "metadata": {},
   "outputs": [
    {
     "name": "stdout",
     "output_type": "stream",
     "text": [
      "\n",
      "Testing find_ge:\n",
      "5\n",
      "7\n",
      "No value greater than or equal to 11 found in the list\n"
     ]
    }
   ],
   "source": [
    "print(\"\\nTesting find_ge:\")\n",
    "try:\n",
    "    print(find_ge(a, 5))  # Should return 5\n",
    "    print(find_ge(a, 6))  # Should return 7\n",
    "    print(find_ge(a, 11))  # Should raise ValueError\n",
    "except ValueError as e:\n",
    "    print(e)\n"
   ]
  },
  {
   "cell_type": "code",
   "execution_count": null,
   "metadata": {},
   "outputs": [],
   "source": []
  },
  {
   "cell_type": "code",
   "execution_count": null,
   "metadata": {},
   "outputs": [],
   "source": []
  },
  {
   "cell_type": "code",
   "execution_count": 14,
   "metadata": {},
   "outputs": [
    {
     "data": {
      "text/plain": [
       "\"\\n\\n\\nProblem statement\\nYou are given a sorted array 'arr' of distinct values and a target value 'm'. You need to search for the index of the target value in the array.\\n\\n\\n\\nNote:\\n1. If the value is present in the array, return its index.\\n2. If the value is absent, determine the index where it would be inserted in the array while maintaining the sorted order. \\n3. The given array has distinct integers.\\n4. The given array may be empty.\\n\\n\\n\\n\\nExample:\\nInput:  arr = [1, 2, 4, 7],  m = 6 \\n\\nOutput: 3\\n\\n\\n\""
      ]
     },
     "execution_count": 14,
     "metadata": {},
     "output_type": "execute_result"
    }
   ],
   "source": [
    "\"\"\"\n",
    "\n",
    "\n",
    "Problem statement\n",
    "You are given a sorted array 'arr' of distinct values and a target value 'm'. You need to search for the index of the target value in the array.\n",
    "\n",
    "\n",
    "\n",
    "Note:\n",
    "1. If the value is present in the array, return its index.\n",
    "2. If the value is absent, determine the index where it would be inserted in the array while maintaining the sorted order. \n",
    "3. The given array has distinct integers.\n",
    "4. The given array may be empty.\n",
    "\n",
    "\n",
    "\n",
    "\n",
    "Example:\n",
    "Input:  arr = [1, 2, 4, 7],  m = 6 \n",
    "\n",
    "Output: 3\n",
    "\n",
    "\n",
    "\"\"\"\n",
    "# it is implement lower bound"
   ]
  },
  {
   "cell_type": "code",
   "execution_count": null,
   "metadata": {},
   "outputs": [],
   "source": []
  },
  {
   "cell_type": "code",
   "execution_count": 1,
   "metadata": {},
   "outputs": [],
   "source": [
    "import bisect\n",
    "def searchInsert(arr: [int], m: int) -> int:\n",
    "    # Write your code here.\n",
    "    return bisect.bisect_left(arr,m)\n",
    "    "
   ]
  },
  {
   "cell_type": "code",
   "execution_count": null,
   "metadata": {},
   "outputs": [],
   "source": []
  },
  {
   "cell_type": "code",
   "execution_count": null,
   "metadata": {},
   "outputs": [],
   "source": []
  },
  {
   "cell_type": "code",
   "execution_count": null,
   "metadata": {},
   "outputs": [],
   "source": []
  },
  {
   "cell_type": "code",
   "execution_count": null,
   "metadata": {},
   "outputs": [],
   "source": []
  }
 ],
 "metadata": {
  "kernelspec": {
   "display_name": "Python 3 (ipykernel)",
   "language": "python",
   "name": "python3"
  },
  "language_info": {
   "codemirror_mode": {
    "name": "ipython",
    "version": 3
   },
   "file_extension": ".py",
   "mimetype": "text/x-python",
   "name": "python",
   "nbconvert_exporter": "python",
   "pygments_lexer": "ipython3",
   "version": "3.11.7"
  }
 },
 "nbformat": 4,
 "nbformat_minor": 4
}
