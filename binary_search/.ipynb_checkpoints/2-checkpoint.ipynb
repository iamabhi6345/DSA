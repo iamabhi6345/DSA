{
 "cells": [
  {
   "cell_type": "code",
   "execution_count": null,
   "metadata": {},
   "outputs": [],
   "source": []
  },
  {
   "cell_type": "code",
   "execution_count": null,
   "metadata": {},
   "outputs": [],
   "source": [
    " bisect.bisect_left(a, x, lo=0, hi=len(a), *, key=None)\n",
    "\n",
    "Locate the insertion point for x in a to maintain sorted order. \n",
    "The parameters lo and hi may be used to specify a subset of the list which should be considered; \n",
    "by default the entire list is used. If x is already present in a, the insertion point will be\n",
    "before (to the left of) any existing entries. The return value is suitable for use as the first parameter \n",
    "to list.insert() assuming that a is already sorted.\n",
    "\n",
    "\n",
    "\n",
    "\n",
    "The returned insertion point ip partitions the array a into two slices such that \n",
    "all(elem < x for elem in a[lo : ip]) is true for the left slice and all(elem >= x for elem in a[ip : hi]) is true \n",
    "for the right slice.\n",
    "\n",
    "key specifies a key function of one argument that is used to extract a comparison key from each element in \n",
    "the array. To support searching complex records, the key function is not applied to the x value.\n",
    "\n",
    "If key is None, the elements are compared directly and no key function is called.\n",
    "\n",
    "Changed in version 3.10: Added the key parameter."
   ]
  },
  {
   "cell_type": "markdown",
   "metadata": {},
   "source": [
    "bisect.bisect_right(a, x, lo=0, hi=len(a), *, key=None)\n",
    "bisect.bisect(a, x, lo=0, hi=len(a), *, key=None)\n",
    "Similar to bisect_left(), but returns an insertion point which comes after (to the right of) any existing entries of x in a.\n",
    "\n",
    "The returned insertion point ip partitions the array a into two slices such that all(elem <= x for elem in a[lo : ip]) is true for the left slice and all(elem > x for elem in a[ip : hi]) is true for the right slice.\n",
    "\n",
    "Changed in version 3.10: Added the key parameter."
   ]
  },
  {
   "cell_type": "markdown",
   "metadata": {},
   "source": []
  },
  {
   "cell_type": "code",
   "execution_count": null,
   "metadata": {},
   "outputs": [],
   "source": []
  },
  {
   "cell_type": "code",
   "execution_count": null,
   "metadata": {},
   "outputs": [],
   "source": []
  },
  {
   "cell_type": "code",
   "execution_count": null,
   "metadata": {},
   "outputs": [],
   "source": []
  },
  {
   "cell_type": "code",
   "execution_count": null,
   "metadata": {},
   "outputs": [],
   "source": []
  },
  {
   "cell_type": "code",
   "execution_count": null,
   "metadata": {},
   "outputs": [],
   "source": []
  },
  {
   "cell_type": "code",
   "execution_count": null,
   "metadata": {},
   "outputs": [],
   "source": []
  },
  {
   "cell_type": "code",
   "execution_count": null,
   "metadata": {},
   "outputs": [],
   "source": []
  },
  {
   "cell_type": "code",
   "execution_count": null,
   "metadata": {},
   "outputs": [],
   "source": []
  }
 ],
 "metadata": {
  "language_info": {
   "name": "python"
  }
 },
 "nbformat": 4,
 "nbformat_minor": 2
}
