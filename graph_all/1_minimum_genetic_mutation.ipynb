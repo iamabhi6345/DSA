{
 "cells": [
  {
   "cell_type": "code",
   "execution_count": 2,
   "metadata": {},
   "outputs": [
    {
     "data": {
      "text/plain": [
       "' \\n\\nA gene string can be represented by an 8-character long string, with choices from \\n\\'A\\', \\'C\\', \\'G\\', and \\'T\\'.\\n\\nSuppose we need to investigate a mutation from a gene string startGene to a gene string \\nendGene where one mutation is defined as one single character changed in the gene string.\\n\\nFor example, \"AACCGGTT\" --> \"AACCGGTA\" is one mutation.\\nThere is also a gene bank bank that records all the valid gene mutations. A gene must be\\nin bank to make it a valid gene string.\\n\\nGiven the two gene strings startGene and endGene and the gene bank bank, return the \\nminimum number of mutations needed to mutate from startGene to endGene. If there is no\\nsuch a mutation, return -1.\\n\\nNote that the starting point is assumed to be valid, so it might not be included in \\nthe bank.\\n\\n \\n\\nExample 1:\\n\\nInput: startGene = \"AACCGGTT\", endGene = \"AACCGGTA\", bank = [\"AACCGGTA\"]\\nOutput: 1\\nExample 2:\\n\\nInput: startGene = \"AACCGGTT\", \\nendGene = \"AAACGGTA\", \\nbank = [\"AACCGGTA\",\"AACCGCTA\",\"AAACGGTA\"]\\nOutput: 2\\n \\n'"
      ]
     },
     "execution_count": 2,
     "metadata": {},
     "output_type": "execute_result"
    }
   ],
   "source": [
    "\"\"\" \n",
    "\n",
    "A gene string can be represented by an 8-character long string, with choices from \n",
    "'A', 'C', 'G', and 'T'.\n",
    "\n",
    "Suppose we need to investigate a mutation from a gene string startGene to a gene string \n",
    "endGene where one mutation is defined as one single character changed in the gene string.\n",
    "\n",
    "For example, \"AACCGGTT\" --> \"AACCGGTA\" is one mutation.\n",
    "There is also a gene bank bank that records all the valid gene mutations. A gene must be\n",
    "in bank to make it a valid gene string.\n",
    "\n",
    "Given the two gene strings startGene and endGene and the gene bank bank, return the \n",
    "minimum number of mutations needed to mutate from startGene to endGene. If there is no\n",
    "such a mutation, return -1.\n",
    "\n",
    "Note that the starting point is assumed to be valid, so it might not be included in \n",
    "the bank.\n",
    "\n",
    " \n",
    "\n",
    "Example 1:\n",
    "\n",
    "Input: startGene = \"AACCGGTT\", endGene = \"AACCGGTA\", bank = [\"AACCGGTA\"]\n",
    "Output: 1\n",
    "Example 2:\n",
    "\n",
    "Input: startGene = \"AACCGGTT\", \n",
    "endGene = \"AAACGGTA\", \n",
    "bank = [\"AACCGGTA\",\"AACCGCTA\",\"AAACGGTA\"]\n",
    "Output: 2\n",
    " \n",
    "\"\"\""
   ]
  },
  {
   "cell_type": "markdown",
   "metadata": {},
   "source": [
    "approach\n",
    "\n",
    "one string to another string in minimum it might be bfs"
   ]
  },
  {
   "cell_type": "code",
   "execution_count": 4,
   "metadata": {},
   "outputs": [],
   "source": [
    "from collections import deque\n",
    "class Solution:\n",
    "    def minMutation(self, startGene: str, endGene: str, bank: list[str]) -> int:\n",
    "      \n",
    "        # searchingh in set =O(1) in list it is O(n)\n",
    "        bankset = set(bank)\n",
    "        if endGene not in bankset:\n",
    "            return -1\n",
    "\n",
    "        visited = set()\n",
    "\n",
    "        q = deque()\n",
    "        q.append(startGene)\n",
    "        visited.add(startGene)\n",
    "\n",
    "        level=0\n",
    "\n",
    "        while q:\n",
    "            n= len(q)\n",
    "\n",
    "            for _ in range(n):\n",
    "                curr= q.popleft()\n",
    "\n",
    "                if curr==endGene:\n",
    "                    return level\n",
    "                for i in range(8):\n",
    "                    for ch in \"ACGT\":\n",
    "                        neighbour = curr[:i]+ch+curr[i+1:]\n",
    "                        if neighbour not in visited and neighbour in bankset:\n",
    "                            visited.add(neighbour)\n",
    "                            q.append(neighbour)\n",
    "            \n",
    "            level+=1\n",
    "        \n",
    "        return -1\n"
   ]
  },
  {
   "cell_type": "code",
   "execution_count": null,
   "metadata": {},
   "outputs": [],
   "source": []
  }
 ],
 "metadata": {
  "kernelspec": {
   "display_name": "Python 3",
   "language": "python",
   "name": "python3"
  },
  "language_info": {
   "codemirror_mode": {
    "name": "ipython",
    "version": 3
   },
   "file_extension": ".py",
   "mimetype": "text/x-python",
   "name": "python",
   "nbconvert_exporter": "python",
   "pygments_lexer": "ipython3",
   "version": "3.11.2"
  }
 },
 "nbformat": 4,
 "nbformat_minor": 2
}
