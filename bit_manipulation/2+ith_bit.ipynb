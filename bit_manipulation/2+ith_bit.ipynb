{
 "cells": [
  {
   "cell_type": "markdown",
   "metadata": {},
   "source": [
    "# Q1\n",
    "Given a number n and a bit number k, check if kth index bit of n is set or not. A bit is called set if it is 1. Position of set bit '1' should be indexed starting with 0 from LSB side in binary representation of the number.\r\n",
    "Note: Index is starting from 0. You just need to return true or false, driver code will take care of printing \"Yes\" and \"No\".\r\n",
    "\r\n",
    "Examples : \r\n",
    "\r\n",
    "Input: n = 4, k = 0\r\n",
    "Output: No\r\n",
    "Explanation: Binary representation of 4 is 100, in which 0th index bit from LSB is not set. So, return false.\r\n",
    "Input: n = 4, k = 2\r\n",
    "Output: Yes\r\n",
    "Explanation: Binary representation of 4 is 100, in which 2nd index bit from LSB is set. So, return true.\r\n",
    "Input: n = 500, k = 3\r\n",
    "Output: No\r\n",
    "Explanation: Binary representation of 500 is 111110100, in which 3rd index bit from LSB is not set. So, return false.\r\n",
    "\r\n",
    "Expected Time Complexity: O(1).\r\n",
    "Expected Auxiliary Space: O(1).\r\n",
    "\r\n",
    "Constraints:\r\n",
    "1 ≤ n ≤ 109\r\n",
    "0 ≤ k ≤ 31"
   ]
  },
  {
   "cell_type": "code",
   "execution_count": 1,
   "metadata": {},
   "outputs": [],
   "source": [
    "class Solution:\n",
    "    \n",
    "    #Function to check if Kth bit is set or not.\n",
    "    def checkKthBit(self, n,k):\n",
    "        #Your code here\n",
    "        if ( n & (1<<k)):\n",
    "            return True\n",
    "        return False"
   ]
  },
  {
   "cell_type": "code",
   "execution_count": null,
   "metadata": {},
   "outputs": [],
   "source": []
  },
  {
   "cell_type": "code",
   "execution_count": null,
   "metadata": {},
   "outputs": [],
   "source": []
  },
  {
   "cell_type": "markdown",
   "metadata": {},
   "source": [
    "# q2 \n",
    "\n",
    "Given a number N and a value K. From the right, set the Kth bit in the binary representation of N. The position of Least Significant Bit(or last bit) is 0, the second last bit is 1 and so on. \r\n",
    "\r\n",
    "Example 1:\r\n",
    "\r\n",
    "Input:\r\n",
    "N = 10 \r\n",
    "K = 2\r\n",
    "Output:\r\n",
    "14\r\n",
    "Explanation:\r\n",
    "Binary representation of the given number\r\n",
    "10 is: 1 0 1 0, number of bits in the \r\n",
    "binary reprsentation is 4. Thus 2nd bit\r\n",
    "from right is 0. The number after changing\r\n",
    "this bit to 1 is: 14(1 1 1 0).\r\n",
    "Example 2:\r\n",
    "\r\n",
    "Input:\r\n",
    "N = 15 \r\n",
    "K = 3\r\n",
    "Output:\r\n",
    "15\r\n",
    "Explanation:\r\n",
    "The binary representation of the given\r\n",
    "number 15 is: 1 1 1 1, number of bits\r\n",
    "in the binary representation is 4. Thus\r\n",
    "3rd bit from the right is 1. The number\r\n",
    "after changing this bit to 1 is\r\n",
    "15(1 1 1 1).\r\n",
    "Your Task:  \r\n",
    "You don't need to read input or print anything. Your task is to complete the function setKthBit() which takes two integer N and K as input parameter and returns an integer after setting the K'th bit in N.\r\n",
    "\r\n",
    "Expected Time Complexity: O(1)\r\n",
    "Expected Auxiliary Space: O(1)"
   ]
  },
  {
   "cell_type": "code",
   "execution_count": 2,
   "metadata": {},
   "outputs": [],
   "source": [
    "class Solution:\n",
    "\tdef setKthBit(self, N, K):\n",
    "\t\t# code here\n",
    "\t\treturn (N | (1<<K))\n"
   ]
  },
  {
   "cell_type": "code",
   "execution_count": null,
   "metadata": {},
   "outputs": [],
   "source": []
  },
  {
   "cell_type": "markdown",
   "metadata": {},
   "source": [
    "# q3\n",
    "\n",
    "clear ith bit"
   ]
  },
  {
   "cell_type": "code",
   "execution_count": 8,
   "metadata": {},
   "outputs": [],
   "source": [
    "\n",
    "def clearKthBit(N, K):\n",
    "\t\treturn (N & ~(1<<K))"
   ]
  },
  {
   "cell_type": "code",
   "execution_count": 11,
   "metadata": {},
   "outputs": [
    {
     "data": {
      "text/plain": [
       "11"
      ]
     },
     "execution_count": 11,
     "metadata": {},
     "output_type": "execute_result"
    }
   ],
   "source": [
    "clearKthBit(15,2)"
   ]
  },
  {
   "cell_type": "code",
   "execution_count": null,
   "metadata": {},
   "outputs": [],
   "source": []
  },
  {
   "cell_type": "markdown",
   "metadata": {},
   "source": [
    "# q4 toggle ith bit"
   ]
  },
  {
   "cell_type": "code",
   "execution_count": 13,
   "metadata": {},
   "outputs": [
    {
     "data": {
      "text/plain": [
       "5"
      ]
     },
     "execution_count": 13,
     "metadata": {},
     "output_type": "execute_result"
    }
   ],
   "source": [
    "n=7\n",
    "i=1\n",
    "toggle = n^(1<<i)\n",
    "toggle"
   ]
  },
  {
   "cell_type": "markdown",
   "metadata": {},
   "source": [
    "# remove last set bit"
   ]
  },
  {
   "cell_type": "code",
   "execution_count": 14,
   "metadata": {},
   "outputs": [
    {
     "data": {
      "text/plain": [
       "14"
      ]
     },
     "execution_count": 14,
     "metadata": {},
     "output_type": "execute_result"
    }
   ],
   "source": [
    "n=15\n",
    "n&(n-1)"
   ]
  },
  {
   "cell_type": "code",
   "execution_count": 15,
   "metadata": {},
   "outputs": [
    {
     "data": {
      "text/plain": [
       "0"
      ]
     },
     "execution_count": 15,
     "metadata": {},
     "output_type": "execute_result"
    }
   ],
   "source": [
    "n=32\n",
    "n&(n-1)"
   ]
  },
  {
   "cell_type": "markdown",
   "metadata": {},
   "source": [
    "# count number of set bit"
   ]
  },
  {
   "cell_type": "code",
   "execution_count": 17,
   "metadata": {},
   "outputs": [
    {
     "data": {
      "text/plain": [
       "1"
      ]
     },
     "execution_count": 17,
     "metadata": {},
     "output_type": "execute_result"
    }
   ],
   "source": [
    "n=32\n",
    "count=0\n",
    "while(n):\n",
    "    n=n&(n-1)\n",
    "    count+=1\n",
    "count"
   ]
  },
  {
   "cell_type": "markdown",
   "metadata": {},
   "source": [
    "# minimum flip to convert number"
   ]
  },
  {
   "cell_type": "code",
   "execution_count": 20,
   "metadata": {},
   "outputs": [
    {
     "data": {
      "text/plain": [
       "4"
      ]
     },
     "execution_count": 20,
     "metadata": {},
     "output_type": "execute_result"
    }
   ],
   "source": [
    "n1= 16\n",
    "n2 = 7\n",
    "\n",
    "tmp =n1^n2\n",
    "count=0\n",
    "while(tmp):\n",
    "    tmp = tmp&(tmp-1)\n",
    "    count+=1\n",
    "count"
   ]
  },
  {
   "cell_type": "code",
   "execution_count": 21,
   "metadata": {},
   "outputs": [],
   "source": [
    "class Solution:\n",
    "    def minBitFlips(self, start: int, goal: int) -> int:\n",
    "        tmp = start^goal\n",
    "        count=0\n",
    "        while(tmp):\n",
    "            tmp = tmp &(tmp-1)\n",
    "            count+=1\n",
    "        return count\n",
    "        "
   ]
  },
  {
   "cell_type": "markdown",
   "metadata": {},
   "source": [
    "# power set"
   ]
  },
  {
   "cell_type": "code",
   "execution_count": 22,
   "metadata": {},
   "outputs": [
    {
     "name": "stdout",
     "output_type": "stream",
     "text": [
      "[]\n",
      "[1]\n",
      "[2]\n",
      "[1, 2]\n",
      "[3]\n",
      "[1, 3]\n",
      "[2, 3]\n",
      "[1, 2, 3]\n",
      "[4]\n",
      "[1, 4]\n",
      "[2, 4]\n",
      "[1, 2, 4]\n",
      "[3, 4]\n",
      "[1, 3, 4]\n",
      "[2, 3, 4]\n",
      "[1, 2, 3, 4]\n",
      "[5]\n",
      "[1, 5]\n",
      "[2, 5]\n",
      "[1, 2, 5]\n",
      "[3, 5]\n",
      "[1, 3, 5]\n",
      "[2, 3, 5]\n",
      "[1, 2, 3, 5]\n",
      "[4, 5]\n",
      "[1, 4, 5]\n",
      "[2, 4, 5]\n",
      "[1, 2, 4, 5]\n",
      "[3, 4, 5]\n",
      "[1, 3, 4, 5]\n",
      "[2, 3, 4, 5]\n",
      "[1, 2, 3, 4, 5]\n"
     ]
    }
   ],
   "source": [
    "n= 5\n",
    "\n",
    "arr=[1,2,3,4,5]\n",
    "\n",
    "for i in range(1<<n):\n",
    "    subset=[]\n",
    "    for j in range(n):\n",
    "        if i &(1<<j):\n",
    "            subset.append(arr[j])\n",
    "    print(subset)\n"
   ]
  },
  {
   "cell_type": "markdown",
   "metadata": {},
   "source": [
    "# single number 1"
   ]
  },
  {
   "cell_type": "raw",
   "metadata": {},
   "source": [
    "Given a non-empty array of integers nums, every element appears twice except for one. Find that single one.\n",
    "\n",
    "You must implement a solution with a linear runtime complexity and use only constant extra space.\n",
    "\n",
    " \n",
    "\n",
    "Example 1:\n",
    "\n",
    "Input: nums = [2,2,1]\n",
    "Output: 1\n",
    "Example 2:\n",
    "\n",
    "Input: nums = [4,1,2,1,2]\n",
    "Output: 4\n",
    "Example 3:\n",
    "\n",
    "Input: nums = [1]\n",
    "Output: 1\n",
    " \n",
    "\n",
    "Constraints:\n",
    "\n",
    "1 <= nums.length <= 3 * 104\n",
    "-3 * 104 <= nums[i] <= 3 * 104\n",
    "Each element in the array appears twice except for one element which appears only once."
   ]
  },
  {
   "cell_type": "code",
   "execution_count": 27,
   "metadata": {},
   "outputs": [],
   "source": [
    "\n",
    "def singleNumber( nums) :\n",
    "    x=0\n",
    "    for i in nums:\n",
    "        x=x^i\n",
    "    return x\n"
   ]
  },
  {
   "cell_type": "code",
   "execution_count": 28,
   "metadata": {},
   "outputs": [
    {
     "data": {
      "text/plain": [
       "4"
      ]
     },
     "execution_count": 28,
     "metadata": {},
     "output_type": "execute_result"
    }
   ],
   "source": [
    "singleNumber([4,1,2,1,2])"
   ]
  },
  {
   "cell_type": "markdown",
   "metadata": {},
   "source": [
    "# single number 2"
   ]
  },
  {
   "cell_type": "raw",
   "metadata": {},
   "source": [
    "Given an integer array nums where every element appears three times except for one, which appears exactly once. Find the single element and return it.\n",
    "\n",
    "You must implement a solution with a linear runtime complexity and use only constant extra space.\n",
    "\n",
    " \n",
    "\n",
    "Example 1:\n",
    "\n",
    "Input: nums = [2,2,3,2]\n",
    "Output: 3\n",
    "Example 2:\n",
    "\n",
    "Input: nums = [0,1,0,1,0,1,99]\n",
    "Output: 99\n",
    " \n",
    "\n",
    "Constraints:\n",
    "\n",
    "1 <= nums.length <= 3 * 104\n",
    "-231 <= nums[i] <= 231 - 1\n",
    "Each element in nums appears exactly three times except for one element which appears once."
   ]
  },
  {
   "cell_type": "code",
   "execution_count": 31,
   "metadata": {},
   "outputs": [],
   "source": [
    "def singleNumber(nums):\n",
    "        one =0\n",
    "        two =0\n",
    "        for x in nums:\n",
    "            one = (one^x)&~two\n",
    "            two= (two ^x)&~one\n",
    "        return one"
   ]
  },
  {
   "cell_type": "code",
   "execution_count": 32,
   "metadata": {},
   "outputs": [
    {
     "data": {
      "text/plain": [
       "99"
      ]
     },
     "execution_count": 32,
     "metadata": {},
     "output_type": "execute_result"
    }
   ],
   "source": [
    "nums = [0,1,0,1,0,1,99]\n",
    "singleNumber(nums)"
   ]
  },
  {
   "cell_type": "code",
   "execution_count": null,
   "metadata": {},
   "outputs": [],
   "source": []
  }
 ],
 "metadata": {
  "kernelspec": {
   "display_name": "Python 3 (ipykernel)",
   "language": "python",
   "name": "python3"
  },
  "language_info": {
   "codemirror_mode": {
    "name": "ipython",
    "version": 3
   },
   "file_extension": ".py",
   "mimetype": "text/x-python",
   "name": "python",
   "nbconvert_exporter": "python",
   "pygments_lexer": "ipython3",
   "version": "3.11.7"
  }
 },
 "nbformat": 4,
 "nbformat_minor": 4
}
